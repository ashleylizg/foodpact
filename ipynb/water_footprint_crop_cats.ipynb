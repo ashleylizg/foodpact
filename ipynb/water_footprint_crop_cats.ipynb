{
 "cells": [
  {
   "cell_type": "code",
   "execution_count": 2,
   "metadata": {},
   "outputs": [],
   "source": [
    "import numpy as np\n",
    "import matplotlib.pyplot as plt\n",
    "import pandas as pd\n",
    "from matplotlib.ticker import ScalarFormatter"
   ]
  },
  {
   "cell_type": "code",
   "execution_count": 8,
   "metadata": {},
   "outputs": [],
   "source": [
    "food_water_use = pd.read_csv('C:/Users/Ashley/workspace/foodpact2/food_water_use_cats_fao.csv')"
   ]
  },
  {
   "cell_type": "code",
   "execution_count": 9,
   "metadata": {},
   "outputs": [
    {
     "data": {
      "text/html": [
       "<div>\n",
       "<style scoped>\n",
       "    .dataframe tbody tr th:only-of-type {\n",
       "        vertical-align: middle;\n",
       "    }\n",
       "\n",
       "    .dataframe tbody tr th {\n",
       "        vertical-align: top;\n",
       "    }\n",
       "\n",
       "    .dataframe thead th {\n",
       "        text-align: right;\n",
       "    }\n",
       "</style>\n",
       "<table border=\"1\" class=\"dataframe\">\n",
       "  <thead>\n",
       "    <tr style=\"text-align: right;\">\n",
       "      <th></th>\n",
       "      <th>Primary crop category</th>\n",
       "      <th>GREEN_WaterFootPrint(m3ton-1)</th>\n",
       "      <th>BLUE_WaterFootPrint(m3ton-1)</th>\n",
       "      <th>GREY_WaterFootPrint(m3ton-1)</th>\n",
       "      <th>TOTAL_WaterFootPrint(m3ton-1)</th>\n",
       "      <th>Caloric value(kcal kg-1)</th>\n",
       "      <th>Water footprint(1 kcal-1)</th>\n",
       "    </tr>\n",
       "  </thead>\n",
       "  <tbody>\n",
       "    <tr>\n",
       "      <th>0</th>\n",
       "      <td>sugar crops</td>\n",
       "      <td>130</td>\n",
       "      <td>52</td>\n",
       "      <td>15</td>\n",
       "      <td>197</td>\n",
       "      <td>290</td>\n",
       "      <td>0.68</td>\n",
       "    </tr>\n",
       "    <tr>\n",
       "      <th>1</th>\n",
       "      <td>vegetables</td>\n",
       "      <td>194</td>\n",
       "      <td>43</td>\n",
       "      <td>85</td>\n",
       "      <td>322</td>\n",
       "      <td>240</td>\n",
       "      <td>1.34</td>\n",
       "    </tr>\n",
       "    <tr>\n",
       "      <th>2</th>\n",
       "      <td>roots and tubers</td>\n",
       "      <td>327</td>\n",
       "      <td>16</td>\n",
       "      <td>43</td>\n",
       "      <td>387</td>\n",
       "      <td>830</td>\n",
       "      <td>0.47</td>\n",
       "    </tr>\n",
       "    <tr>\n",
       "      <th>3</th>\n",
       "      <td>fruits</td>\n",
       "      <td>727</td>\n",
       "      <td>147</td>\n",
       "      <td>93</td>\n",
       "      <td>967</td>\n",
       "      <td>460</td>\n",
       "      <td>2.10</td>\n",
       "    </tr>\n",
       "    <tr>\n",
       "      <th>4</th>\n",
       "      <td>cereals</td>\n",
       "      <td>1232</td>\n",
       "      <td>228</td>\n",
       "      <td>184</td>\n",
       "      <td>1644</td>\n",
       "      <td>3200</td>\n",
       "      <td>0.51</td>\n",
       "    </tr>\n",
       "  </tbody>\n",
       "</table>\n",
       "</div>"
      ],
      "text/plain": [
       "  Primary crop category  GREEN_WaterFootPrint(m3ton-1)  \\\n",
       "0           sugar crops                            130   \n",
       "1            vegetables                            194   \n",
       "2      roots and tubers                            327   \n",
       "3                fruits                            727   \n",
       "4               cereals                           1232   \n",
       "\n",
       "   BLUE_WaterFootPrint(m3ton-1)  GREY_WaterFootPrint(m3ton-1)  \\\n",
       "0                            52                            15   \n",
       "1                            43                            85   \n",
       "2                            16                            43   \n",
       "3                           147                            93   \n",
       "4                           228                           184   \n",
       "\n",
       "   TOTAL_WaterFootPrint(m3ton-1)  Caloric value(kcal kg-1)  \\\n",
       "0                            197                       290   \n",
       "1                            322                       240   \n",
       "2                            387                       830   \n",
       "3                            967                       460   \n",
       "4                           1644                      3200   \n",
       "\n",
       "   Water footprint(1 kcal-1)  \n",
       "0                       0.68  \n",
       "1                       1.34  \n",
       "2                       0.47  \n",
       "3                       2.10  \n",
       "4                       0.51  "
      ]
     },
     "execution_count": 9,
     "metadata": {},
     "output_type": "execute_result"
    }
   ],
   "source": [
    "food_water_use.head()"
   ]
  },
  {
   "cell_type": "code",
   "execution_count": 10,
   "metadata": {},
   "outputs": [],
   "source": [
    "food_water_use.rename(columns={'Primary crop category':'Crop Category',\n",
    "                            'GREEN_WaterFootPrint(m3ton-1)':'Green Water Footprint',\n",
    "                            'BLUE_WaterFootPrint(m3ton-1)':'Blue Water Footprint', \n",
    "                            'GREY_WaterFootPrint(m3ton-1)':'Grey Water Footprint',\n",
    "                            'TOTAL_WaterFootPrint(m3ton-1)':'Total Water Footprint'}, \n",
    "                      inplace=True)"
   ]
  },
  {
   "cell_type": "code",
   "execution_count": 28,
   "metadata": {},
   "outputs": [
    {
     "name": "stderr",
     "output_type": "stream",
     "text": [
      "C:\\Users\\Ashley\\Anaconda3\\lib\\site-packages\\matplotlib\\cbook\\deprecation.py:107: MatplotlibDeprecationWarning: Adding an axes using the same arguments as a previous axes currently reuses the earlier instance.  In a future version, a new instance will always be created and returned.  Meanwhile, this warning can be suppressed, and the future behavior ensured, by passing a unique label to each axes instance.\n",
      "  warnings.warn(message, mplDeprecation, stacklevel=1)\n"
     ]
    },
    {
     "data": {
      "image/png": "[encoded data removed]",
      "text/plain": [
       "<Figure size 864x432 with 1 Axes>"
      ]
     },
     "metadata": {},
     "output_type": "display_data"
    }
   ],
   "source": [
    "df = pd.DataFrame(food_water_use, columns=['Blue Water Footprint', 'Total Water Footprint'])\n",
    "labels = ['Sugar\\nCrops', 'Vegetables', 'Roots\\nand\\nTubers', 'Fruits', 'Cereals', 'Oil\\nCrops', 'Pulses', 'Spices', 'Nuts', 'Stimulants']\n",
    "\n",
    "df.plot(kind='bar', stacked='TRUE', figsize=(12,6), color = ('paleturquoise', 'royalblue'), ec='black', width = 0.8)\n",
    "ax = plt.subplot()\n",
    "ax.set_xticklabels(labels, rotation=0, fontsize=12, wrap=True)\n",
    "plt.yscale('log')\n",
    "for axis in [ax.yaxis]: \n",
    "    axis.set_major_formatter(ScalarFormatter())\n",
    "plt.xlabel('\\n\\nSource: Mekonnen, M.M. & Hoekstra, A.Y. (2011). The green, blue, and grey water footprints of crops and derived crop products.\\nHydrology and Earth System Sciences (15), 1577-1600.', fontsize=10)\n",
    "plt.ylabel('Footprint in Metric Tons', fontsize=15)\n",
    "plt.title('Water Footprint for Global Food Categories', fontsize=18)\n",
    "plt.legend(loc = 'upper left', fontsize=12)\n",
    "plt.tight_layout()\n",
    "plt.savefig('water_footprints.svg')\n",
    "plt.show()"
   ]
  },
  {
   "cell_type": "code",
   "execution_count": null,
   "metadata": {},
   "outputs": [],
   "source": []
  }
 ],
 "metadata": {
  "kernelspec": {
   "display_name": "Python 3",
   "language": "python",
   "name": "python3"
  },
  "language_info": {
   "codemirror_mode": {
    "name": "ipython",
    "version": 3
   },
   "file_extension": ".py",
   "mimetype": "text/x-python",
   "name": "python",
   "nbconvert_exporter": "python",
   "pygments_lexer": "ipython3",
   "version": "3.6.5"
  }
 },
 "nbformat": 4,
 "nbformat_minor": 2
}
