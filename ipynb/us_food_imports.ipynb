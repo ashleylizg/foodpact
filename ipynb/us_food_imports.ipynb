{
 "cells": [
  {
   "cell_type": "code",
   "execution_count": 1,
   "metadata": {},
   "outputs": [],
   "source": [
    "import numpy as np\n",
    "import matplotlib.pyplot as plt\n",
    "import matplotlib as mpl\n",
    "import pandas as pd"
   ]
  },
  {
   "cell_type": "code",
   "execution_count": 12,
   "metadata": {},
   "outputs": [],
   "source": [
    "food_import_sources = pd.read_csv('C:/Users/Ashley/workspace/foodpact2/to_use/usda_food_imports_sources.csv')"
   ]
  },
  {
   "cell_type": "code",
   "execution_count": 13,
   "metadata": {},
   "outputs": [
    {
     "data": {
      "text/html": [
       "<div>\n",
       "<style scoped>\n",
       "    .dataframe tbody tr th:only-of-type {\n",
       "        vertical-align: middle;\n",
       "    }\n",
       "\n",
       "    .dataframe tbody tr th {\n",
       "        vertical-align: top;\n",
       "    }\n",
       "\n",
       "    .dataframe thead th {\n",
       "        text-align: right;\n",
       "    }\n",
       "</style>\n",
       "<table border=\"1\" class=\"dataframe\">\n",
       "  <thead>\n",
       "    <tr style=\"text-align: right;\">\n",
       "      <th></th>\n",
       "      <th>Country</th>\n",
       "      <th>1999</th>\n",
       "      <th>2000</th>\n",
       "      <th>2001</th>\n",
       "      <th>2002</th>\n",
       "      <th>2003</th>\n",
       "      <th>2004</th>\n",
       "      <th>2005</th>\n",
       "      <th>2006</th>\n",
       "      <th>2007</th>\n",
       "      <th>...</th>\n",
       "      <th>2009</th>\n",
       "      <th>2010</th>\n",
       "      <th>2011</th>\n",
       "      <th>2012</th>\n",
       "      <th>2013</th>\n",
       "      <th>2014</th>\n",
       "      <th>2015</th>\n",
       "      <th>2016</th>\n",
       "      <th>2017</th>\n",
       "      <th>avg</th>\n",
       "    </tr>\n",
       "  </thead>\n",
       "  <tbody>\n",
       "    <tr>\n",
       "      <th>0</th>\n",
       "      <td>Mexico</td>\n",
       "      <td>5421.3</td>\n",
       "      <td>5833.2</td>\n",
       "      <td>5943.9</td>\n",
       "      <td>6162.8</td>\n",
       "      <td>7023.5</td>\n",
       "      <td>7993.1</td>\n",
       "      <td>9106.6</td>\n",
       "      <td>10274.3</td>\n",
       "      <td>11138.9</td>\n",
       "      <td>...</td>\n",
       "      <td>12210.9</td>\n",
       "      <td>14427.9</td>\n",
       "      <td>16813.5</td>\n",
       "      <td>17393.8</td>\n",
       "      <td>18701.5</td>\n",
       "      <td>20592.9</td>\n",
       "      <td>22445.8</td>\n",
       "      <td>24339.6</td>\n",
       "      <td>26200.3</td>\n",
       "      <td>13359.21</td>\n",
       "    </tr>\n",
       "    <tr>\n",
       "      <th>1</th>\n",
       "      <td>Canada</td>\n",
       "      <td>9001.5</td>\n",
       "      <td>9853.5</td>\n",
       "      <td>10991.9</td>\n",
       "      <td>11558.5</td>\n",
       "      <td>11607.2</td>\n",
       "      <td>12732.9</td>\n",
       "      <td>13665.9</td>\n",
       "      <td>14794.7</td>\n",
       "      <td>16410.8</td>\n",
       "      <td>...</td>\n",
       "      <td>15699.4</td>\n",
       "      <td>17375.6</td>\n",
       "      <td>19799.1</td>\n",
       "      <td>20541.2</td>\n",
       "      <td>21927.6</td>\n",
       "      <td>23249.5</td>\n",
       "      <td>22434.0</td>\n",
       "      <td>22609.8</td>\n",
       "      <td>23541.0</td>\n",
       "      <td>16673.25</td>\n",
       "    </tr>\n",
       "    <tr>\n",
       "      <th>2</th>\n",
       "      <td>China</td>\n",
       "      <td>979.1</td>\n",
       "      <td>1119.9</td>\n",
       "      <td>1232.5</td>\n",
       "      <td>1590.0</td>\n",
       "      <td>2111.4</td>\n",
       "      <td>2463.8</td>\n",
       "      <td>2850.4</td>\n",
       "      <td>3660.2</td>\n",
       "      <td>4283.9</td>\n",
       "      <td>...</td>\n",
       "      <td>4203.0</td>\n",
       "      <td>4854.1</td>\n",
       "      <td>5581.8</td>\n",
       "      <td>5937.2</td>\n",
       "      <td>6006.9</td>\n",
       "      <td>6020.0</td>\n",
       "      <td>5896.4</td>\n",
       "      <td>5866.2</td>\n",
       "      <td>6159.7</td>\n",
       "      <td>3985.63</td>\n",
       "    </tr>\n",
       "    <tr>\n",
       "      <th>3</th>\n",
       "      <td>France</td>\n",
       "      <td>1980.7</td>\n",
       "      <td>1866.8</td>\n",
       "      <td>1836.7</td>\n",
       "      <td>2109.1</td>\n",
       "      <td>2492.3</td>\n",
       "      <td>2578.5</td>\n",
       "      <td>2797.5</td>\n",
       "      <td>3164.8</td>\n",
       "      <td>3588.6</td>\n",
       "      <td>...</td>\n",
       "      <td>2893.3</td>\n",
       "      <td>3146.9</td>\n",
       "      <td>3650.0</td>\n",
       "      <td>3913.6</td>\n",
       "      <td>4101.0</td>\n",
       "      <td>4274.7</td>\n",
       "      <td>4411.6</td>\n",
       "      <td>4775.6</td>\n",
       "      <td>5100.3</td>\n",
       "      <td>3276.39</td>\n",
       "    </tr>\n",
       "    <tr>\n",
       "      <th>4</th>\n",
       "      <td>Italy</td>\n",
       "      <td>1450.7</td>\n",
       "      <td>1571.4</td>\n",
       "      <td>1586.9</td>\n",
       "      <td>1825.6</td>\n",
       "      <td>2128.3</td>\n",
       "      <td>2346.3</td>\n",
       "      <td>2641.1</td>\n",
       "      <td>2862.2</td>\n",
       "      <td>3096.7</td>\n",
       "      <td>...</td>\n",
       "      <td>2939.9</td>\n",
       "      <td>3041.1</td>\n",
       "      <td>3501.1</td>\n",
       "      <td>3618.1</td>\n",
       "      <td>3868.2</td>\n",
       "      <td>4132.2</td>\n",
       "      <td>4184.2</td>\n",
       "      <td>4365.8</td>\n",
       "      <td>4586.4</td>\n",
       "      <td>3001.71</td>\n",
       "    </tr>\n",
       "  </tbody>\n",
       "</table>\n",
       "<p>5 rows × 21 columns</p>\n",
       "</div>"
      ],
      "text/plain": [
       "  Country    1999    2000     2001     2002     2003     2004     2005  \\\n",
       "0  Mexico  5421.3  5833.2   5943.9   6162.8   7023.5   7993.1   9106.6   \n",
       "1  Canada  9001.5  9853.5  10991.9  11558.5  11607.2  12732.9  13665.9   \n",
       "2   China   979.1  1119.9   1232.5   1590.0   2111.4   2463.8   2850.4   \n",
       "3  France  1980.7  1866.8   1836.7   2109.1   2492.3   2578.5   2797.5   \n",
       "4   Italy  1450.7  1571.4   1586.9   1825.6   2128.3   2346.3   2641.1   \n",
       "\n",
       "      2006     2007    ...        2009     2010     2011     2012     2013  \\\n",
       "0  10274.3  11138.9    ...     12210.9  14427.9  16813.5  17393.8  18701.5   \n",
       "1  14794.7  16410.8    ...     15699.4  17375.6  19799.1  20541.2  21927.6   \n",
       "2   3660.2   4283.9    ...      4203.0   4854.1   5581.8   5937.2   6006.9   \n",
       "3   3164.8   3588.6    ...      2893.3   3146.9   3650.0   3913.6   4101.0   \n",
       "4   2862.2   3096.7    ...      2939.9   3041.1   3501.1   3618.1   3868.2   \n",
       "\n",
       "      2014     2015     2016     2017       avg  \n",
       "0  20592.9  22445.8  24339.6  26200.3  13359.21  \n",
       "1  23249.5  22434.0  22609.8  23541.0  16673.25  \n",
       "2   6020.0   5896.4   5866.2   6159.7   3985.63  \n",
       "3   4274.7   4411.6   4775.6   5100.3   3276.39  \n",
       "4   4132.2   4184.2   4365.8   4586.4   3001.71  \n",
       "\n",
       "[5 rows x 21 columns]"
      ]
     },
     "execution_count": 13,
     "metadata": {},
     "output_type": "execute_result"
    }
   ],
   "source": [
    "food_import_sources.head()"
   ]
  },
  {
   "cell_type": "code",
   "execution_count": 15,
   "metadata": {},
   "outputs": [],
   "source": [
    "imports_2017 = food_import_sources[['Country', '2017']].copy()"
   ]
  },
  {
   "cell_type": "code",
   "execution_count": 16,
   "metadata": {},
   "outputs": [
    {
     "data": {
      "text/html": [
       "<div>\n",
       "<style scoped>\n",
       "    .dataframe tbody tr th:only-of-type {\n",
       "        vertical-align: middle;\n",
       "    }\n",
       "\n",
       "    .dataframe tbody tr th {\n",
       "        vertical-align: top;\n",
       "    }\n",
       "\n",
       "    .dataframe thead th {\n",
       "        text-align: right;\n",
       "    }\n",
       "</style>\n",
       "<table border=\"1\" class=\"dataframe\">\n",
       "  <thead>\n",
       "    <tr style=\"text-align: right;\">\n",
       "      <th></th>\n",
       "      <th>Country</th>\n",
       "      <th>2017</th>\n",
       "    </tr>\n",
       "  </thead>\n",
       "  <tbody>\n",
       "    <tr>\n",
       "      <th>0</th>\n",
       "      <td>Mexico</td>\n",
       "      <td>26200.3</td>\n",
       "    </tr>\n",
       "    <tr>\n",
       "      <th>1</th>\n",
       "      <td>Canada</td>\n",
       "      <td>23541.0</td>\n",
       "    </tr>\n",
       "    <tr>\n",
       "      <th>2</th>\n",
       "      <td>China</td>\n",
       "      <td>6159.7</td>\n",
       "    </tr>\n",
       "    <tr>\n",
       "      <th>3</th>\n",
       "      <td>France</td>\n",
       "      <td>5100.3</td>\n",
       "    </tr>\n",
       "    <tr>\n",
       "      <th>4</th>\n",
       "      <td>Italy</td>\n",
       "      <td>4586.4</td>\n",
       "    </tr>\n",
       "  </tbody>\n",
       "</table>\n",
       "</div>"
      ],
      "text/plain": [
       "  Country     2017\n",
       "0  Mexico  26200.3\n",
       "1  Canada  23541.0\n",
       "2   China   6159.7\n",
       "3  France   5100.3\n",
       "4   Italy   4586.4"
      ]
     },
     "execution_count": 16,
     "metadata": {},
     "output_type": "execute_result"
    }
   ],
   "source": [
    "imports_2017.head()"
   ]
  },
  {
   "cell_type": "code",
   "execution_count": 17,
   "metadata": {},
   "outputs": [],
   "source": [
    "imports_2017 = imports_2017.sort_values('2017', ascending=False)"
   ]
  },
  {
   "cell_type": "code",
   "execution_count": 23,
   "metadata": {},
   "outputs": [
    {
     "data": {
      "text/html": [
       "<div>\n",
       "<style scoped>\n",
       "    .dataframe tbody tr th:only-of-type {\n",
       "        vertical-align: middle;\n",
       "    }\n",
       "\n",
       "    .dataframe tbody tr th {\n",
       "        vertical-align: top;\n",
       "    }\n",
       "\n",
       "    .dataframe thead th {\n",
       "        text-align: right;\n",
       "    }\n",
       "</style>\n",
       "<table border=\"1\" class=\"dataframe\">\n",
       "  <thead>\n",
       "    <tr style=\"text-align: right;\">\n",
       "      <th></th>\n",
       "      <th>Country</th>\n",
       "      <th>2017</th>\n",
       "    </tr>\n",
       "  </thead>\n",
       "  <tbody>\n",
       "    <tr>\n",
       "      <th>65</th>\n",
       "      <td>Grand Total</td>\n",
       "      <td>137236.6</td>\n",
       "    </tr>\n",
       "    <tr>\n",
       "      <th>0</th>\n",
       "      <td>Mexico</td>\n",
       "      <td>26200.3</td>\n",
       "    </tr>\n",
       "    <tr>\n",
       "      <th>1</th>\n",
       "      <td>Canada</td>\n",
       "      <td>23541.0</td>\n",
       "    </tr>\n",
       "    <tr>\n",
       "      <th>2</th>\n",
       "      <td>China</td>\n",
       "      <td>6159.7</td>\n",
       "    </tr>\n",
       "    <tr>\n",
       "      <th>3</th>\n",
       "      <td>France</td>\n",
       "      <td>5100.3</td>\n",
       "    </tr>\n",
       "    <tr>\n",
       "      <th>4</th>\n",
       "      <td>Italy</td>\n",
       "      <td>4586.4</td>\n",
       "    </tr>\n",
       "    <tr>\n",
       "      <th>5</th>\n",
       "      <td>Chile</td>\n",
       "      <td>4582.4</td>\n",
       "    </tr>\n",
       "    <tr>\n",
       "      <th>6</th>\n",
       "      <td>India</td>\n",
       "      <td>4468.3</td>\n",
       "    </tr>\n",
       "    <tr>\n",
       "      <th>7</th>\n",
       "      <td>Indonesia</td>\n",
       "      <td>4320.1</td>\n",
       "    </tr>\n",
       "    <tr>\n",
       "      <th>8</th>\n",
       "      <td>Vietnam</td>\n",
       "      <td>3696.3</td>\n",
       "    </tr>\n",
       "    <tr>\n",
       "      <th>9</th>\n",
       "      <td>Ireland</td>\n",
       "      <td>3353.3</td>\n",
       "    </tr>\n",
       "  </tbody>\n",
       "</table>\n",
       "</div>"
      ],
      "text/plain": [
       "        Country      2017\n",
       "65  Grand Total  137236.6\n",
       "0        Mexico   26200.3\n",
       "1        Canada   23541.0\n",
       "2         China    6159.7\n",
       "3        France    5100.3\n",
       "4         Italy    4586.4\n",
       "5         Chile    4582.4\n",
       "6         India    4468.3\n",
       "7     Indonesia    4320.1\n",
       "8       Vietnam    3696.3\n",
       "9       Ireland    3353.3"
      ]
     },
     "execution_count": 23,
     "metadata": {},
     "output_type": "execute_result"
    }
   ],
   "source": [
    "imports_2017.head(11)"
   ]
  },
  {
   "cell_type": "code",
   "execution_count": 37,
   "metadata": {},
   "outputs": [],
   "source": [
    "# multiple rows and multiple columns\n",
    "data = imports_2017.loc[1:10, 'Country':'2017']"
   ]
  },
  {
   "cell_type": "code",
   "execution_count": 38,
   "metadata": {},
   "outputs": [],
   "source": [
    "x = data['Country']\n",
    "y = data['2017'].values"
   ]
  },
  {
   "cell_type": "code",
   "execution_count": 49,
   "metadata": {},
   "outputs": [
    {
     "data": {
      "image/png": "[encoded data removed]",
      "text/plain": [
       "<Figure size 432x288 with 1 Axes>"
      ]
     },
     "metadata": {},
     "output_type": "display_data"
    }
   ],
   "source": [
    "fig, ax = plt.subplots()\n",
    "ax.barh(x,y, align='center', color='yellowgreen', ec='black')\n",
    "## ax.set_yticks(data['Country'])\n",
    "## ax.set_yticklabels(people)\n",
    "ax.invert_yaxis()  # labels read top-to-bottom\n",
    "ax.set_xlabel('Millions of Dollars Spent\\n\\nSource: USDA, www.fas.usda.gov/gats')\n",
    "ax.set_title('Top 10 Countries for US Food Imports')\n",
    "\n",
    "plt.show()"
   ]
  },
  {
   "cell_type": "code",
   "execution_count": 50,
   "metadata": {},
   "outputs": [],
   "source": [
    "import_totals = pd.read_csv('C:/Users/Ashley/workspace/foodpact2/to_use/import_food_totals.csv')"
   ]
  },
  {
   "cell_type": "code",
   "execution_count": 91,
   "metadata": {},
   "outputs": [
    {
     "data": {
      "image/png": "[encoded data removed]",
      "text/plain": [
       "<Figure size 432x288 with 1 Axes>"
      ]
     },
     "metadata": {},
     "output_type": "display_data"
    }
   ],
   "source": [
    "colors = ['lightcoral', 'mediumaquamarine', 'powderblue'] \n",
    "\n",
    "pieLabels = ['Total animal foods', 'Total plant foods', 'Total beverages']\n",
    "values = [34048.80, 81442.00, 21745.90]\n",
    " \n",
    "\n",
    "fig, ax = plt.subplots()\n",
    "ax.pie(values,labels=pieLabels, colors=colors, autopct='%1.2f', startangle=90, wedgeprops={\"edgecolor\":\"white\"})\n",
    "ax.axis('equal')\n",
    "ax.set_title('US Food Import Totals for 2017')\n",
    "ax.set_xlabel('Source: USDA, www.fas.usda.gov/gats')\n",
    "plt.show()"
   ]
  },
  {
   "cell_type": "code",
   "execution_count": 28,
   "metadata": {},
   "outputs": [],
   "source": [
    "waste_totals = pd.read_csv('C:/Users/Ashley/workspace/foodpact2/consumer_losses.csv')"
   ]
  },
  {
   "cell_type": "code",
   "execution_count": 29,
   "metadata": {},
   "outputs": [
    {
     "data": {
      "text/html": [
       "<div>\n",
       "<style scoped>\n",
       "    .dataframe tbody tr th:only-of-type {\n",
       "        vertical-align: middle;\n",
       "    }\n",
       "\n",
       "    .dataframe tbody tr th {\n",
       "        vertical-align: top;\n",
       "    }\n",
       "\n",
       "    .dataframe thead th {\n",
       "        text-align: right;\n",
       "    }\n",
       "</style>\n",
       "<table border=\"1\" class=\"dataframe\">\n",
       "  <thead>\n",
       "    <tr style=\"text-align: right;\">\n",
       "      <th></th>\n",
       "      <th>Food group</th>\n",
       "      <th>Consumer level losses from food supply in billion lbs</th>\n",
       "    </tr>\n",
       "  </thead>\n",
       "  <tbody>\n",
       "    <tr>\n",
       "      <th>0</th>\n",
       "      <td>Grains</td>\n",
       "      <td>11.3</td>\n",
       "    </tr>\n",
       "    <tr>\n",
       "      <th>1</th>\n",
       "      <td>Fruit</td>\n",
       "      <td>12.5</td>\n",
       "    </tr>\n",
       "    <tr>\n",
       "      <th>2</th>\n",
       "      <td>Vegetables</td>\n",
       "      <td>18.2</td>\n",
       "    </tr>\n",
       "    <tr>\n",
       "      <th>3</th>\n",
       "      <td>Dairy</td>\n",
       "      <td>16.2</td>\n",
       "    </tr>\n",
       "    <tr>\n",
       "      <th>4</th>\n",
       "      <td>Meat, Poultry, and Fish</td>\n",
       "      <td>12.7</td>\n",
       "    </tr>\n",
       "  </tbody>\n",
       "</table>\n",
       "</div>"
      ],
      "text/plain": [
       "                Food group  \\\n",
       "0                   Grains   \n",
       "1                    Fruit   \n",
       "2               Vegetables   \n",
       "3                    Dairy   \n",
       "4  Meat, Poultry, and Fish   \n",
       "\n",
       "   Consumer level losses from food supply in billion lbs  \n",
       "0                                               11.3      \n",
       "1                                               12.5      \n",
       "2                                               18.2      \n",
       "3                                               16.2      \n",
       "4                                               12.7      "
      ]
     },
     "execution_count": 29,
     "metadata": {},
     "output_type": "execute_result"
    }
   ],
   "source": [
    "waste_totals.head()"
   ]
  },
  {
   "cell_type": "code",
   "execution_count": 30,
   "metadata": {},
   "outputs": [],
   "source": [
    "waste_totals = waste_totals.sort_values('Consumer level losses from food supply in billion lbs', ascending = False)"
   ]
  },
  {
   "cell_type": "code",
   "execution_count": 31,
   "metadata": {},
   "outputs": [
    {
     "data": {
      "text/html": [
       "<div>\n",
       "<style scoped>\n",
       "    .dataframe tbody tr th:only-of-type {\n",
       "        vertical-align: middle;\n",
       "    }\n",
       "\n",
       "    .dataframe tbody tr th {\n",
       "        vertical-align: top;\n",
       "    }\n",
       "\n",
       "    .dataframe thead th {\n",
       "        text-align: right;\n",
       "    }\n",
       "</style>\n",
       "<table border=\"1\" class=\"dataframe\">\n",
       "  <thead>\n",
       "    <tr style=\"text-align: right;\">\n",
       "      <th></th>\n",
       "      <th>Food group</th>\n",
       "      <th>Consumer level losses from food supply in billion lbs</th>\n",
       "    </tr>\n",
       "  </thead>\n",
       "  <tbody>\n",
       "    <tr>\n",
       "      <th>2</th>\n",
       "      <td>Vegetables</td>\n",
       "      <td>18.2</td>\n",
       "    </tr>\n",
       "    <tr>\n",
       "      <th>3</th>\n",
       "      <td>Dairy</td>\n",
       "      <td>16.2</td>\n",
       "    </tr>\n",
       "    <tr>\n",
       "      <th>4</th>\n",
       "      <td>Meat, Poultry, and Fish</td>\n",
       "      <td>12.7</td>\n",
       "    </tr>\n",
       "    <tr>\n",
       "      <th>1</th>\n",
       "      <td>Fruit</td>\n",
       "      <td>12.5</td>\n",
       "    </tr>\n",
       "    <tr>\n",
       "      <th>7</th>\n",
       "      <td>Sugar and Sweeteners</td>\n",
       "      <td>12.3</td>\n",
       "    </tr>\n",
       "  </tbody>\n",
       "</table>\n",
       "</div>"
      ],
      "text/plain": [
       "                Food group  \\\n",
       "2               Vegetables   \n",
       "3                    Dairy   \n",
       "4  Meat, Poultry, and Fish   \n",
       "1                    Fruit   \n",
       "7     Sugar and Sweeteners   \n",
       "\n",
       "   Consumer level losses from food supply in billion lbs  \n",
       "2                                               18.2      \n",
       "3                                               16.2      \n",
       "4                                               12.7      \n",
       "1                                               12.5      \n",
       "7                                               12.3      "
      ]
     },
     "execution_count": 31,
     "metadata": {},
     "output_type": "execute_result"
    }
   ],
   "source": [
    "waste_totals.head()"
   ]
  },
  {
   "cell_type": "code",
   "execution_count": 32,
   "metadata": {},
   "outputs": [
    {
     "name": "stdout",
     "output_type": "stream",
     "text": [
      "2                 Vegetables\n",
      "3                      Dairy\n",
      "4    Meat, Poultry, and Fish\n",
      "1                      Fruit\n",
      "7       Sugar and Sweeteners\n",
      "0                     Grains\n",
      "8              Fats and Oils\n",
      "5                       Eggs\n",
      "6      Tree Nuts and Peanuts\n",
      "Name: Food group, dtype: object\n"
     ]
    }
   ],
   "source": [
    "print(waste_totals['Food group'])"
   ]
  },
  {
   "cell_type": "code",
   "execution_count": 41,
   "metadata": {},
   "outputs": [
    {
     "name": "stderr",
     "output_type": "stream",
     "text": [
      "C:\\Users\\Ashley\\Anaconda3\\lib\\site-packages\\matplotlib\\cbook\\deprecation.py:107: MatplotlibDeprecationWarning: Adding an axes using the same arguments as a previous axes currently reuses the earlier instance.  In a future version, a new instance will always be created and returned.  Meanwhile, this warning can be suppressed, and the future behavior ensured, by passing a unique label to each axes instance.\n",
      "  warnings.warn(message, mplDeprecation, stacklevel=1)\n"
     ]
    },
    {
     "data": {
      "image/png": "[encoded data removed]",
      "text/plain": [
       "<Figure size 864x432 with 1 Axes>"
      ]
     },
     "metadata": {},
     "output_type": "display_data"
    }
   ],
   "source": [
    "labels = ['Vegetables', 'Dairy', 'Meat, \\nPoultry, \\n& Fish', 'Fruit', 'Sugar \\n&\\n Sweetners', 'Grains', 'Fats \\n& Oils', 'Eggs', 'Nuts']\n",
    "losses = waste_totals['Consumer level losses from food supply in billion lbs']\n",
    "\n",
    "fig = plt.figure(figsize=(12,6))\n",
    "ax = fig.add_subplot(111)\n",
    "\n",
    "bars = plt.bar(labels, losses, align='center')\n",
    "ax = plt.subplot()\n",
    "ax.set_xticklabels(labels, rotation=0, fontsize=12, wrap=True)\n",
    "ax.set_ylim([0, 20])\n",
    "def autolabel(rects):\n",
    "    for rect in rects:\n",
    "        height = rect.get_height()\n",
    "        ax.text(rect.get_x() + rect.get_width()/2., 1.0*height,\n",
    "                '%2.1f' % int(height),\n",
    "                ha='center', va='bottom')\n",
    "autolabel(bars)\n",
    "ax.set_title('Consumer Level Food Waste in Billions of Pounds', fontsize=18)\n",
    "ax.set_xlabel('Food Groups', fontsize= 15)\n",
    "### Source: Source: USDA, Economic Research Service, \n",
    "### 2010 ERS Loss-Adjusted Food Availability data as of Sept. 17, 2012, \n",
    "### and the U.S. population on July 1, 2010 (309.75 million).\n",
    "ax.set_ylabel('Food Waste (Billions of Pounds)', fontsize=15)\n",
    "plt.tight_layout()\n",
    "plt.show()"
   ]
  },
  {
   "cell_type": "code",
   "execution_count": null,
   "metadata": {},
   "outputs": [],
   "source": []
  },
  {
   "cell_type": "code",
   "execution_count": null,
   "metadata": {},
   "outputs": [],
   "source": []
  }
 ],
 "metadata": {
  "kernelspec": {
   "display_name": "Python 3",
   "language": "python",
   "name": "python3"
  },
  "language_info": {
   "codemirror_mode": {
    "name": "ipython",
    "version": 3
   },
   "file_extension": ".py",
   "mimetype": "text/x-python",
   "name": "python",
   "nbconvert_exporter": "python",
   "pygments_lexer": "ipython3",
   "version": "3.6.5"
  }
 },
 "nbformat": 4,
 "nbformat_minor": 2
}
